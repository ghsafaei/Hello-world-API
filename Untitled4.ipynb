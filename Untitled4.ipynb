{
  "nbformat": 4,
  "nbformat_minor": 0,
  "metadata": {
    "colab": {
      "provenance": [],
      "authorship_tag": "ABX9TyNpxRUTJCHte+PB4epGChTg",
      "include_colab_link": true
    },
    "kernelspec": {
      "name": "python3",
      "display_name": "Python 3"
    },
    "language_info": {
      "name": "python"
    }
  },
  "cells": [
    {
      "cell_type": "markdown",
      "metadata": {
        "id": "view-in-github",
        "colab_type": "text"
      },
      "source": [
        "<a href=\"https://colab.research.google.com/github/ghsafaei/Hello-world-API/blob/main/Untitled4.ipynb\" target=\"_parent\"><img src=\"https://colab.research.google.com/assets/colab-badge.svg\" alt=\"Open In Colab\"/></a>"
      ]
    },
    {
      "cell_type": "code",
      "execution_count": 16,
      "metadata": {
        "colab": {
          "base_uri": "https://localhost:8080/"
        },
        "id": "9SWJk24PnaE3",
        "outputId": "fcacb33b-5bf2-4c3d-f84b-74ef364a4309"
      },
      "outputs": [
        {
          "output_type": "stream",
          "name": "stdout",
          "text": [
            "Looking in indexes: https://pypi.org/simple, https://us-python.pkg.dev/colab-wheels/public/simple/\n",
            "Requirement already satisfied: requests in /usr/local/lib/python3.7/dist-packages (2.23.0)\n",
            "Requirement already satisfied: chardet<4,>=3.0.2 in /usr/local/lib/python3.7/dist-packages (from requests) (3.0.4)\n",
            "Requirement already satisfied: certifi>=2017.4.17 in /usr/local/lib/python3.7/dist-packages (from requests) (2022.6.15)\n",
            "Requirement already satisfied: urllib3!=1.25.0,!=1.25.1,<1.26,>=1.21.1 in /usr/local/lib/python3.7/dist-packages (from requests) (1.24.3)\n",
            "Requirement already satisfied: idna<3,>=2.5 in /usr/local/lib/python3.7/dist-packages (from requests) (2.10)\n",
            "delectus aut autem\n"
          ]
        }
      ],
      "source": [
        "!pip install requests\n",
        "import requests\n",
        "\n",
        "header = {\n",
        "    \"Autorization\" : \"ABCD ghkl;;;;ute\"\n",
        "}\n",
        "\n",
        "parameters = {\n",
        "    \"location\" : \"Iran\",\n",
        "    \"password\" : \"asdfgh\",\n",
        "    \"username\" : \"qwerty\"\n",
        "}\n",
        "response = requests.get(\"https://jsonplaceholder.typicode.com/todos/1\",\n",
        "                        headers=header , params=parameters)\n",
        "\n",
        "print(response.json()[\"title\"])\n",
        "\n"
      ]
    }
  ]
}